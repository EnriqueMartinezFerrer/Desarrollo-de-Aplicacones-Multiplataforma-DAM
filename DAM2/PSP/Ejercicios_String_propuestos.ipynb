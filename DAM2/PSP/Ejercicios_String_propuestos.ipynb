{
 "cells": [
  {
   "cell_type": "markdown",
   "id": "416f75ce-c2bd-4877-9149-69e246930d91",
   "metadata": {},
   "source": [
    "# Ejercicios Propuestos String"
   ]
  },
  {
   "cell_type": "code",
   "execution_count": 2,
   "id": "559af6c3-5e02-4750-a092-ccc3962e21f9",
   "metadata": {},
   "outputs": [
    {
     "name": "stdout",
     "output_type": "stream",
     "text": [
      "True\n",
      "False\n",
      "True\n",
      "Ejercicio 4\n",
      "Con Array split y bucle : Aprendiendo Python Desde El Nivel Cero \n",
      "Con la función title xd: Aprendiendo Python Desde El Nivel Cero\n",
      "APRENDIENDO PYTHON DESDE EL NIVEL CERO\n",
      "aprendiendo python desde el nivel cero\n",
      "aPRENDIENDO pYTHON DESDE EL NIVEL CERO\n",
      " Aprendiendo Python desde el nivel cero\n"
     ]
    }
   ],
   "source": [
    "variable_texto = \"Aprendiendo Python desde el nivel cero\"\n",
    "\n",
    "# print(variable_texto[:19] + variable_texto[variable_texto.find('des')].upper() +)\n",
    "\n",
    "# Comprueba que empieza por la letra A\n",
    "print(variable_texto[0] == 'A')\n",
    "\n",
    "# Comprueba que no empieza por la letra o\n",
    "print(variable_texto[0] == 'a')\n",
    "\n",
    "# Comprueba que termina por la letra o\n",
    "print(variable_texto[-1] == 'o')\n",
    "\n",
    "# 4 primera letra de cada palabra en mayúscula\n",
    "print(\"Ejercicio 4\")\n",
    "\n",
    "# Con split en array\n",
    "\n",
    "arrayFrase = variable_texto.split()\n",
    "\n",
    "fraseCapitalizada = \"\"\n",
    "# cambiar cada palabra del array con capital\n",
    "for palabra in arrayFrase:\n",
    "\n",
    "    palabraCapitalizada = palabra.capitalize()\n",
    "    fraseCapitalizada += palabraCapitalizada + \" \"\n",
    "# Salida\n",
    "print(\"Con Array split y bucle : \" + fraseCapitalizada)\n",
    "\n",
    "# Con funcion facil\n",
    "print(\"Con la función title xd: \" + variable_texto.title())\n",
    "\n",
    "\n",
    "# 5\n",
    "print(variable_texto.upper())\n",
    "\n",
    "# 6 todo en minuscula\n",
    "print(variable_texto.lower())\n",
    "\n",
    "# Cambiar mayusculas por minusculas - viceversa\n",
    "print(variable_texto.swapcase())\n",
    "\n",
    "# 8 Sustituir A inicial por \" A\" y quitar los espacios del inicio y el final\n",
    "\n",
    "# variable_cambiada = variable_texto.replace(variable_texto[0], ' A')\n",
    "variable_cambiada = variable_texto.replace(variable_texto[variable_texto.find('A')], ' A')\n",
    "\n",
    "print(variable_cambiada)\n",
    "\n",
    "\n",
    "\n"
   ]
  },
  {
   "cell_type": "code",
   "execution_count": null,
   "id": "4f0ef3bd",
   "metadata": {},
   "outputs": [],
   "source": []
  },
  {
   "cell_type": "code",
   "execution_count": null,
   "id": "badf74c5",
   "metadata": {},
   "outputs": [],
   "source": []
  },
  {
   "cell_type": "code",
   "execution_count": null,
   "id": "ad0f6804-ff64-4af4-b0a1-05dd6ab8a3e5",
   "metadata": {},
   "outputs": [],
   "source": []
  },
  {
   "cell_type": "code",
   "execution_count": null,
   "id": "53cae3a9-9e94-4387-87e1-b702fa024a78",
   "metadata": {},
   "outputs": [],
   "source": []
  },
  {
   "cell_type": "code",
   "execution_count": null,
   "id": "471b4ec9-f46f-4412-a21b-cabd2b444acd",
   "metadata": {},
   "outputs": [],
   "source": []
  },
  {
   "cell_type": "code",
   "execution_count": null,
   "id": "4b1a0564-1fa5-415c-bf88-fad7e5496c13",
   "metadata": {},
   "outputs": [],
   "source": []
  },
  {
   "cell_type": "code",
   "execution_count": null,
   "id": "101526d1-92ec-4bfa-84e6-51d38a7a8d7a",
   "metadata": {},
   "outputs": [],
   "source": []
  },
  {
   "cell_type": "code",
   "execution_count": null,
   "id": "6b9d3be4-b0e3-4483-91e4-bc031b2e2e99",
   "metadata": {},
   "outputs": [],
   "source": []
  },
  {
   "cell_type": "code",
   "execution_count": 7,
   "id": "c373e50c-4682-40ff-97f9-4ccc31d7ebff",
   "metadata": {},
   "outputs": [
    {
     "name": "stdout",
     "output_type": "stream",
     "text": [
      "e\n"
     ]
    }
   ],
   "source": []
  },
  {
   "cell_type": "code",
   "execution_count": null,
   "id": "5cf70b6f-65fc-4d65-8238-a24a1a4aef4e",
   "metadata": {},
   "outputs": [],
   "source": []
  },
  {
   "cell_type": "code",
   "execution_count": null,
   "id": "186ad901-a1fb-4fd9-9c44-65f7c74692fb",
   "metadata": {},
   "outputs": [],
   "source": []
  },
  {
   "cell_type": "code",
   "execution_count": null,
   "id": "48fa730d-648c-4ebf-a15a-07093cc5501f",
   "metadata": {},
   "outputs": [],
   "source": []
  },
  {
   "cell_type": "code",
   "execution_count": null,
   "id": "5267cc74-b54c-4d36-a655-a266b945ce92",
   "metadata": {},
   "outputs": [],
   "source": []
  },
  {
   "cell_type": "code",
   "execution_count": null,
   "id": "ff5f7438-cac9-452e-bf1b-81c1f7557f28",
   "metadata": {},
   "outputs": [],
   "source": []
  },
  {
   "cell_type": "code",
   "execution_count": null,
   "id": "554771fe-5b89-481c-ac65-a06da0cd878d",
   "metadata": {},
   "outputs": [],
   "source": []
  }
 ],
 "metadata": {
  "kernelspec": {
   "display_name": "Python 3 (ipykernel)",
   "language": "python",
   "name": "python3"
  },
  "language_info": {
   "codemirror_mode": {
    "name": "ipython",
    "version": 3
   },
   "file_extension": ".py",
   "mimetype": "text/x-python",
   "name": "python",
   "nbconvert_exporter": "python",
   "pygments_lexer": "ipython3",
   "version": "3.9.12"
  }
 },
 "nbformat": 4,
 "nbformat_minor": 5
}
