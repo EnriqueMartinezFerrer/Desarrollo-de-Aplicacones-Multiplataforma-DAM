{
 "cells": [
  {
   "cell_type": "code",
   "execution_count": 4,
   "id": "6c2f7ce1",
   "metadata": {},
   "outputs": [
    {
     "name": "stdout",
     "output_type": "stream",
     "text": [
      "Introduce un número: 15\n",
      "3.872983346207417\n"
     ]
    }
   ],
   "source": [
    "#Importamos la librería math\n",
    "import math\n",
    "#Creamos la función divide_or_square\n",
    "def divide_or_square():\n",
    "    num = int(input(\"Introduce un número: \") )\n",
    "    if num % 5 == 0:\n",
    "        #Utilizamos sqrt: devuelve el valor de una raiz cuadrada\n",
    "        x1 = math.sqrt(num)\n",
    "        print(x1)\n",
    "    else:\n",
    "        #Utilizamo % para sacar el resto\n",
    "        x2 = num%5\n",
    "        print(x2)\n",
    "#Imprimimos función\n",
    "divide_or_square()"
   ]
  },
  {
   "cell_type": "code",
   "execution_count": null,
   "id": "a3cd43df",
   "metadata": {},
   "outputs": [],
   "source": []
  }
 ],
 "metadata": {
  "kernelspec": {
   "display_name": "Python 3 (ipykernel)",
   "language": "python",
   "name": "python3"
  },
  "language_info": {
   "codemirror_mode": {
    "name": "ipython",
    "version": 3
   },
   "file_extension": ".py",
   "mimetype": "text/x-python",
   "name": "python",
   "nbconvert_exporter": "python",
   "pygments_lexer": "ipython3",
   "version": "3.9.12"
  }
 },
 "nbformat": 4,
 "nbformat_minor": 5
}
