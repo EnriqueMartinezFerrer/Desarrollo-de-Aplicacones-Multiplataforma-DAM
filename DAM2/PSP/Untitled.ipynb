{
 "cells": [
  {
   "cell_type": "code",
   "execution_count": 2,
   "id": "fb404e92",
   "metadata": {},
   "outputs": [
    {
     "name": "stdout",
     "output_type": "stream",
     "text": [
      "A H O R C A D O\n"
     ]
    },
    {
     "ename": "NameError",
     "evalue": "name 'random' is not defined",
     "output_type": "error",
     "traceback": [
      "\u001b[1;31m---------------------------------------------------------------------------\u001b[0m",
      "\u001b[1;31mNameError\u001b[0m                                 Traceback (most recent call last)",
      "Input \u001b[1;32mIn [2]\u001b[0m, in \u001b[0;36m<cell line: 47>\u001b[1;34m()\u001b[0m\n\u001b[0;32m     45\u001b[0m letraIncorrecta \u001b[38;5;241m=\u001b[39m \u001b[38;5;124m\"\u001b[39m\u001b[38;5;124m\"\u001b[39m\n\u001b[0;32m     46\u001b[0m letraCorrecta \u001b[38;5;241m=\u001b[39m \u001b[38;5;124m\"\u001b[39m\u001b[38;5;124m\"\u001b[39m\n\u001b[1;32m---> 47\u001b[0m palabraSecreta \u001b[38;5;241m=\u001b[39m \u001b[43mbuscarPalabraAleat\u001b[49m\u001b[43m(\u001b[49m\u001b[43mpalabras\u001b[49m\u001b[43m)\u001b[49m\n\u001b[0;32m     48\u001b[0m finJuego \u001b[38;5;241m=\u001b[39m \u001b[38;5;28;01mFalse\u001b[39;00m\n\u001b[0;32m     49\u001b[0m \u001b[38;5;28;01mwhile\u001b[39;00m \u001b[38;5;28;01mTrue\u001b[39;00m:\n",
      "Input \u001b[1;32mIn [2]\u001b[0m, in \u001b[0;36mbuscarPalabraAleat\u001b[1;34m(listaPalabras)\u001b[0m\n\u001b[0;32m      3\u001b[0m \u001b[38;5;28;01mdef\u001b[39;00m \u001b[38;5;21mbuscarPalabraAleat\u001b[39m(listaPalabras):\n\u001b[0;32m      4\u001b[0m     \u001b[38;5;66;03m# Esta funcion retorna una palabra aleatoria.\u001b[39;00m\n\u001b[1;32m----> 5\u001b[0m     palabraAleatoria \u001b[38;5;241m=\u001b[39m \u001b[43mrandom\u001b[49m\u001b[38;5;241m.\u001b[39mrandint(\u001b[38;5;241m0\u001b[39m, \u001b[38;5;28mlen\u001b[39m(listaPalabras) \u001b[38;5;241m-\u001b[39m \u001b[38;5;241m1\u001b[39m)\n\u001b[0;32m      6\u001b[0m     \u001b[38;5;28;01mreturn\u001b[39;00m listaPalabras[palabraAleatoria]\n",
      "\u001b[1;31mNameError\u001b[0m: name 'random' is not defined"
     ]
    }
   ],
   "source": [
    "palabras = 'valoracion aprenderpython comida juego python web imposible variable curso volador cabeza reproductor mirada escritor billete lapicero celular valor revista gratuito disco voleibol anillo estrella'.split()\n",
    " \n",
    "def buscarPalabraAleat(listaPalabras):\n",
    "    # Esta funcion retorna una palabra aleatoria.\n",
    "    palabraAleatoria = random.randint(0, len(listaPalabras) - 1)\n",
    "    return listaPalabras[palabraAleatoria]\n",
    " \n",
    "def displayBoard(AHORCADO, letraIncorrecta, letraCorrecta, palabraSecreta):\n",
    "    print(AHORCADO[len(letraIncorrecta)])\n",
    "    print (\"\")\n",
    "    fin = \" \"\n",
    "    print ('Letras incorrectas:', fin)\n",
    "    for letra in letraIncorrecta:\n",
    "        print (letra, fin)\n",
    "    print (\"\")\n",
    "    espacio = '_' * len(palabraSecreta)\n",
    "    for i in range(len(palabraSecreta)): # Remplaza los espacios en blanco por la letra bien escrita\n",
    "        if palabraSecreta[i] in letraCorrecta:\n",
    "            espacio = espacio[:i] + palabraSecreta[i] + espacio[i+1:]\n",
    "    for letra in espacio: # Mostrará la palabra secreta con espacios entre letras\n",
    "        print (letra, fin)\n",
    "    print (\"\")\n",
    " \n",
    "def elijeLetra(algunaLetra):\n",
    "    # Devuelve la letra que el jugador ingreso. Esta función hace que el jugador ingrese una letra y no cualquier otra cosa\n",
    "    while True:\n",
    "        print ('Adivina una letra:')\n",
    "        letra = input()\n",
    "        letra = letra.lower()\n",
    "        if len(letra) != 1:\n",
    "            print ('Introduce una sola letra.') \n",
    "        elif letra in algunaLetra:\n",
    "            print ('Ya has elegido esa letra ¿Qué tal si pruebas con otra?')\n",
    "        elif letra not in 'abcdefghijklmnopqrstuvwxyz':\n",
    "            print ('Elije una letra.')\n",
    "        else:\n",
    "            return letra\n",
    " \n",
    "def empezar():\n",
    "    # Esta funcion devuelve True si el jugador quiere volver a jugar, de lo contrario devuelve False\n",
    "    print ('Quieres jugar de nuevo? (Si o No)')\n",
    "    return input().lower().startswith('s')\n",
    " \n",
    "print ('A H O R C A D O')\n",
    "letraIncorrecta = \"\"\n",
    "letraCorrecta = \"\"\n",
    "palabraSecreta = buscarPalabraAleat(palabras)\n",
    "finJuego = False\n",
    "while True:\n",
    "    displayBoard(AHORCADO, letraIncorrecta, letraCorrecta, palabraSecreta)\n",
    "    # El usuairo elije una letra.\n",
    "    letra = elijeLetra(letraIncorrecta + letraCorrecta)\n",
    "    if letra in palabraSecreta:\n",
    "        letraCorrecta = letraCorrecta + letra\n",
    "        # Se fija si el jugador ganó\n",
    "        letrasEncontradas = True\n",
    "        for i in range(len(palabraSecreta)):\n",
    "            if palabraSecreta[i] not in letraCorrecta:\n",
    "                letrasEncontradas = False\n",
    "                break\n",
    "        if letrasEncontradas:\n",
    "            print ('¡Muy bien! La palabra secreta es \"' + palabraSecreta + '\"! ¡Has ganado!')\n",
    "            finJuego = True\n",
    "    else:\n",
    "        letraIncorrecta = letraIncorrecta + letra\n",
    "        # Comprueba la cantidad de letras que ha ingresado el jugador y si perdió\n",
    "        if len(letraIncorrecta) == len(AHORCADO) - 1:\n",
    "            displayBoard(AHORCADO, letraIncorrecta, letraCorrecta, palabraSecreta)\n",
    "            print ('¡Se ha quedado sin letras!\\nDespues de ' + str(len(letraIncorrecta)) + ' letras erroneas y ' + str(len(letraCorrecta)) + ' letras correctas, la palabra era \"' + palabraSecreta + '\"')\n",
    "            finJuego = True\n",
    "    # Pregunta al jugador si quiere jugar de nuevo\n",
    "    if finJuego:\n",
    "        if empezar():\n",
    "            letraIncorrecta = \"\"\n",
    "            letraCorrecta = \"\"\n",
    "            finJuego = False\n",
    "            palabraSecreta = buscarPalabraAleat(palabras)\n",
    "        else:\n",
    "            break"
   ]
  },
  {
   "cell_type": "code",
   "execution_count": null,
   "id": "7c62f303",
   "metadata": {},
   "outputs": [],
   "source": []
  }
 ],
 "metadata": {
  "kernelspec": {
   "display_name": "Python 3 (ipykernel)",
   "language": "python",
   "name": "python3"
  },
  "language_info": {
   "codemirror_mode": {
    "name": "ipython",
    "version": 3
   },
   "file_extension": ".py",
   "mimetype": "text/x-python",
   "name": "python",
   "nbconvert_exporter": "python",
   "pygments_lexer": "ipython3",
   "version": "3.9.12"
  }
 },
 "nbformat": 4,
 "nbformat_minor": 5
}
