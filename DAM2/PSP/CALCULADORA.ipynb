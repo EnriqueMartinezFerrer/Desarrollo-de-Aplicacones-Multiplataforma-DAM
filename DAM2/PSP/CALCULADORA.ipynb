{
 "cells": [
  {
   "cell_type": "code",
   "execution_count": null,
   "id": "53853e17",
   "metadata": {},
   "outputs": [
    {
     "name": "stdout",
     "output_type": "stream",
     "text": [
      "Introduce un número: 3\n",
      "Introduce un segundo número: 5\n",
      "\n",
      "    ¿Qué quieres hacer?\n",
      "    \n",
      "    1) Sumar.\n",
      "    2) Restar.\n",
      "    3) Multiplicar.\n",
      "    4) Cambiar los números.\n",
      "    5) Apagar calculadora.\n",
      "    \n",
      "Elige una opción: 1\n",
      "RESULTADO:  3.0 + 5.0 = 8.0\n",
      "\n",
      "    ¿Qué quieres hacer?\n",
      "    \n",
      "    1) Sumar.\n",
      "    2) Restar.\n",
      "    3) Multiplicar.\n",
      "    4) Cambiar los números.\n",
      "    5) Apagar calculadora.\n",
      "    \n",
      "Elige una opción: 1\n",
      "RESULTADO:  3.0 + 5.0 = 8.0\n",
      "\n",
      "    ¿Qué quieres hacer?\n",
      "    \n",
      "    1) Sumar.\n",
      "    2) Restar.\n",
      "    3) Multiplicar.\n",
      "    4) Cambiar los números.\n",
      "    5) Apagar calculadora.\n",
      "    \n"
     ]
    }
   ],
   "source": [
    "x1 = float(input(\"Introduce un número: \") )\n",
    "x2 = float(input(\"Introduce un segundo número: \") )\n",
    "\n",
    "opcion = 0\n",
    "while True:\n",
    "    print(\"\"\"\n",
    "    ¿Qué quieres hacer?\n",
    "    \n",
    "    1) Sumar.\n",
    "    2) Restar.\n",
    "    3) Multiplicar.\n",
    "    4) Cambiar los números.\n",
    "    5) Apagar calculadora.\n",
    "    \"\"\")\n",
    "    opcion = int(input(\"Elige una opción: \") )     \n",
    "\n",
    "    if opcion == 1:\n",
    "        print(\" \")\n",
    "        print(\"RESULTADO: \",x1,\"+\",x2,\"=\",x1+x2)\n",
    "    elif opcion == 2:\n",
    "        print(\" \")\n",
    "        print(\"RESULTADO: \",x1,\"-\",x2,\"=\",x1-x2)\n",
    "    elif opcion == 3:\n",
    "        print(\" \")\n",
    "        print(\"RESULTADO: \",x1,\"*\",x2,\"=\",x1*x2)\n",
    "    elif opcion == 4:\n",
    "        x1 = float(input(\"Introduce un número: \") )\n",
    "        x2 = float(input(\"Introduce un segundo número: \") )\n",
    "    elif opcion == 5:\n",
    "        break\n",
    "    else:\n",
    "        print(\"ERROR\")"
   ]
  },
  {
   "cell_type": "code",
   "execution_count": null,
   "id": "a5526569",
   "metadata": {},
   "outputs": [],
   "source": []
  },
  {
   "cell_type": "code",
   "execution_count": null,
   "id": "7019bfe2",
   "metadata": {},
   "outputs": [],
   "source": []
  },
  {
   "cell_type": "code",
   "execution_count": null,
   "id": "e6db9e61",
   "metadata": {},
   "outputs": [],
   "source": []
  },
  {
   "cell_type": "code",
   "execution_count": null,
   "id": "af5bf838",
   "metadata": {},
   "outputs": [],
   "source": []
  }
 ],
 "metadata": {
  "kernelspec": {
   "display_name": "Python 3 (ipykernel)",
   "language": "python",
   "name": "python3"
  },
  "language_info": {
   "codemirror_mode": {
    "name": "ipython",
    "version": 3
   },
   "file_extension": ".py",
   "mimetype": "text/x-python",
   "name": "python",
   "nbconvert_exporter": "python",
   "pygments_lexer": "ipython3",
   "version": "3.9.12"
  }
 },
 "nbformat": 4,
 "nbformat_minor": 5
}
