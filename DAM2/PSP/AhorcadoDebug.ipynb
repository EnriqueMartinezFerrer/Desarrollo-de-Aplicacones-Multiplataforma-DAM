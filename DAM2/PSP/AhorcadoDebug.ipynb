{
 "cells": [
  {
   "cell_type": "markdown",
   "id": "e1d42116",
   "metadata": {},
   "source": [
    "# Juego del Ahorcado"
   ]
  },
  {
   "cell_type": "code",
   "execution_count": 123,
   "id": "98b36d24",
   "metadata": {},
   "outputs": [
    {
     "name": "stdout",
     "output_type": "stream",
     "text": [
      "Introduce una palabra: tuto\n"
     ]
    }
   ],
   "source": [
    "# Declaración de las variables\n",
    "\n",
    "# la variable palabra será introducida por el usuario\n",
    "palabra = input(\"Introduce una palabra: \")\n",
    "palabra_aux = palabra.replace(palabra, '-'*len(palabra))\n",
    "# La cantidad de vidas dependerá del tamaño de la palabra escogida por el jugador\n",
    "vidas = len(palabra)\n",
    "letras_usadas = set()\n",
    "win = False"
   ]
  },
  {
   "cell_type": "code",
   "execution_count": 124,
   "id": "0c8fbfb7",
   "metadata": {},
   "outputs": [
    {
     "name": "stdout",
     "output_type": "stream",
     "text": [
      "Te quedan  4  vidas\n",
      "Has usado estas letras:  set()\n",
      "Introduce una letra: a\n",
      "La cosa queda así: ----\n",
      "\n",
      "\n",
      "Te quedan  3  vidas\n",
      "Has usado estas letras:  {'a'}\n",
      "Introduce una letra: l\n",
      "La cosa queda así: ----\n",
      "\n",
      "\n",
      "Te quedan  2  vidas\n",
      "Has usado estas letras:  {'a', 'l'}\n",
      "Introduce una letra: n\n",
      "La cosa queda así: ----\n",
      "\n",
      "\n",
      "Te quedan  1  vidas\n",
      "Has usado estas letras:  {'a', 'n', 'l'}\n",
      "Introduce una letra: r\n",
      "TE HAS QUEDADO SIN VIDAS, VUELVE A INTENTARLO\n"
     ]
    }
   ],
   "source": [
    "# Comienza el juego he inicizamos un bucle hasta que las vidas sean 0 o menos\n",
    "while(lifes > 0):\n",
    "    print('Te quedan ', lifes, ' vidas')\n",
    "    print('Letras usadas: ', uletras)\n",
    "    letra_input = input('Introduce una letra: ')\n",
    "    # Se introduce la letra en el conjunto si no ha utilizada\n",
    "    if letra_input in uletras:\n",
    "        print(\"Esta letra ya ha sido utilizada\")\n",
    "        continue\n",
    "    else:\n",
    "        uletras.add(letra_input)\n",
    "    # Comprobar si la letra está en la palabra y más.\n",
    "    if letra_input in palabra:\n",
    "        for idx,l in enumerate(palabra):\n",
    "            if l==letra_input:\n",
    "                palabra_aux=palabra_aux[:idx] + letra_input + palabra_aux[idx+1:]\n",
    "    else: lifes-=1\n",
    "    #Si la varaible auxiliar coincide con la palabra, el juego termina y hemos ganado.\n",
    "    if palabra_aux==palabra:\n",
    "        win=True\n",
    "        break\n",
    "    # Perdemos si las vidas se acaban.\n",
    "    if lifes==0:\n",
    "        print(\"TE HAS QUEDADO SIN VIDAS, VUELVE A INTENTARLO\")\n",
    "        break\n",
    "    print(\"La cosa queda así: \"+palabra_aux+\"\\n\\n\")\n",
    "\n",
    "# Se felicita al jugador.\n",
    "if win == True:\n",
    "    print(\"\\n\\n\\n\\nLa palabra era: \"+palabra)\n",
    "    print(\"¡FELICIDADES, GANASTE!\")"
   ]
  },
  {
   "cell_type": "code",
   "execution_count": null,
   "id": "d76a6795",
   "metadata": {},
   "outputs": [],
   "source": []
  }
 ],
 "metadata": {
  "kernelspec": {
   "display_name": "Python 3 (ipykernel)",
   "language": "python",
   "name": "python3"
  },
  "language_info": {
   "codemirror_mode": {
    "name": "ipython",
    "version": 3
   },
   "file_extension": ".py",
   "mimetype": "text/x-python",
   "name": "python",
   "nbconvert_exporter": "python",
   "pygments_lexer": "ipython3",
   "version": "3.9.12"
  }
 },
 "nbformat": 4,
 "nbformat_minor": 5
}
