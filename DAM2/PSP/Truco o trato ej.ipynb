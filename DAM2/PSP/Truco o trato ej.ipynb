{
 "cells": [
  {
   "cell_type": "code",
   "execution_count": 1,
   "id": "3a94262d",
   "metadata": {},
   "outputs": [
    {
     "ename": "IndentationError",
     "evalue": "unexpected indent (1268842832.py, line 10)",
     "output_type": "error",
     "traceback": [
      "\u001b[1;36m  Input \u001b[1;32mIn [1]\u001b[1;36m\u001b[0m\n\u001b[1;33m    nombre.append(nom)\u001b[0m\n\u001b[1;37m    ^\u001b[0m\n\u001b[1;31mIndentationError\u001b[0m\u001b[1;31m:\u001b[0m unexpected indent\n"
     ]
    }
   ],
   "source": [
    "#Creamos una lista para los nombres\n",
    "persona = [nombre, edad, altura]\n",
    "nombre = []\n",
    "edad = []\n",
    "altura = []\n",
    "sustos = [\"🎃\", \"👻\", \"💀\", \"🕷\", \"🕸\", \"🦇\"]\n",
    "dulces = [\"🍰\", \"🍬\", \"🍡\", \"🍭\", \"🍪\", \"🍫\", \"🧁\", \"🍩\"]\n",
    "#Que se introduzcan los nombres,edad y altura y se guarden en la lista\n",
    "nom=input(\"Ingrese el nombre del alumno:\")\n",
    "    nombre.append(nom)\n",
    "ed=input(\"Ingrese el nombre del alumno:\")\n",
    "    edad.append(ed)\n",
    "alt=input(\"Ingrese el nombre del alumno:\")\n",
    "    altura.append(alt)\n",
    "opcion = 0\n",
    "while True:\n",
    "    print(\"\"\"\n",
    "    ¿Truco o Trato?\n",
    "    \n",
    "    1) Truco.\n",
    "    2) Trato.\n",
    "    \"\"\")\n",
    "    opcion = int(input(\"Elige una opción: \") )   \n",
    "if opcion == 1:\n",
    "    sustos = len(nombre)/2\n",
    "     if edad % 2 == 0:\n",
    "            print(sustos)\n",
    "    if altura/100\n",
    "if opcion == 2:\n",
    "     dulces = len(nombre)\n",
    "     \n"
   ]
  },
  {
   "cell_type": "code",
   "execution_count": null,
   "id": "6856ae00",
   "metadata": {},
   "outputs": [],
   "source": []
  }
 ],
 "metadata": {
  "kernelspec": {
   "display_name": "Python 3 (ipykernel)",
   "language": "python",
   "name": "python3"
  },
  "language_info": {
   "codemirror_mode": {
    "name": "ipython",
    "version": 3
   },
   "file_extension": ".py",
   "mimetype": "text/x-python",
   "name": "python",
   "nbconvert_exporter": "python",
   "pygments_lexer": "ipython3",
   "version": "3.9.12"
  }
 },
 "nbformat": 4,
 "nbformat_minor": 5
}
