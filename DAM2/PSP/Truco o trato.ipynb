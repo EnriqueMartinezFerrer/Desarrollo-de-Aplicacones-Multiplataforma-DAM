{
 "cells": [
  {
   "cell_type": "markdown",
   "id": "ed9aae8e",
   "metadata": {},
   "source": [
    "**Enunciado**: Este es un reto especial por Halloween.\n",
    "  Deberemos crear un programa al que le indiquemos si queremos realizar \"Truco\n",
    "  o Trato\" y un listado (array) de personas con las siguientes propiedades:\n",
    "  - Nombre de la niña o niño\n",
    "  - Edad\n",
    "  - Altura en centímetros\n",
    " \n",
    "  Si las personas han pedido truco, el programa retornará sustos (aleatorios)\n",
    "  siguiendo estos criterios:\n",
    "  - Un susto por cada 2 letras del nombre por persona\n",
    "  - Dos sustos por cada edad que sea un número par\n",
    "  - Tres sustos por cada 100 cm de altura entre todas las personas\n",
    "  - Sustos: 🎃 👻 💀 🕷 🕸 🦇\n",
    " \n",
    "  Si las personas han pedido trato, el programa retornará dulces (aleatorios)\n",
    "  siguiendo estos criterios:\n",
    "  - Un dulce por cada letra de nombre\n",
    "  - Un dulce por cada 3 años cumplidos hasta un máximo de 10 años por persona\n",
    "  - Dos dulces por cada 50 cm de altura hasta un máximo de 150 cm por persona\n",
    "  - Dulces: 🍰 🍬 🍡 🍭 🍪 🍫 🧁 🍩\n"
   ]
  }
 ],
 "metadata": {
  "kernelspec": {
   "display_name": "Python 3 (ipykernel)",
   "language": "python",
   "name": "python3"
  },
  "language_info": {
   "codemirror_mode": {
    "name": "ipython",
    "version": 3
   },
   "file_extension": ".py",
   "mimetype": "text/x-python",
   "name": "python",
   "nbconvert_exporter": "python",
   "pygments_lexer": "ipython3",
   "version": "3.9.12"
  }
 },
 "nbformat": 4,
 "nbformat_minor": 5
}
