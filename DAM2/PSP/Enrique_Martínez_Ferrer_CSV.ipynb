{
 "cells": [
  {
   "cell_type": "code",
   "execution_count": null,
   "id": "a2aec4f4",
   "metadata": {},
   "outputs": [],
   "source": []
  },
  {
   "cell_type": "code",
   "execution_count": 1,
   "id": "c5b4eb8b",
   "metadata": {},
   "outputs": [],
   "source": [
    "import csv, smtplib, ssl\n",
    "from email.mime.multipart import MIMEMultipart\n",
    "from email.mime.text import MIMEText\n",
    "\n",
    "#Importar las librerías\n",
    "\n",
    "fila=[]\n",
    "\n",
    "#Procedimiento para ver las filas que nos interesan del csv\n",
    "with open('ejercicio-14-oct.csv') as csv_file:\n",
    "    csv_reader = csv.reader(csv_file, delimiter=';')\n",
    "    line_count = 0\n",
    "    for row in csv_reader:\n",
    "        if line_count == 3:\n",
    "            fila=(str(row))\n",
    "        else:\n",
    "            line_count += 1\n",
    " \n",
    "#Se crea un array de cadenas y eliminamos los caracteres sobrantes\n",
    "fila=fila.replace(\"'\",\"\")\n",
    "fila=fila.split(\",\")\n",
    "\n",
    "#Asignamos una variable a cada campo necesario. en este caso queremos conocer el DESTINATARIO, DESCRIPCION DEL CORREO, Y CUERPO DEL CORREO\n",
    "Para=fila[1]\n",
    "Asunto=fila[2]\n",
    "cuerpo=fila[3]\n",
    "\n",
    "#Hacemos el setup del correo y su protocolo de envio\n",
    "port = 465 \n",
    "smtp_server = \"smtp.gmail.com\"\n",
    "sender_email = \"kikemf2003@gmail.com\"\n",
    "receiver_email = Para\n",
    "\n",
    "#Contraseña para poder enviar correos desde python\n",
    "password = \"rmnrbkcnbxgdeltp\"\n",
    "msg=MIMEMultipart()\n",
    "message = cuerpo\n",
    "msg['Subject']=Asunto\n",
    "msg.attach(MIMEText(message+\"\\nBuenos dias, me falta solo el busca minas\", 'plain'))\n",
    "context = ssl.create_default_context()\n",
    "\n",
    "#Metodo para enviar el correo.\n",
    "with smtplib.SMTP_SSL(smtp_server, port, context=context) as server:\n",
    "    #Logear en tu correo\n",
    "    server.login(sender_email, password)\n",
    "    #Enviar email\n",
    "    server.sendmail(sender_email, receiver_email, msg.as_string())\n"
   ]
  },
  {
   "cell_type": "code",
   "execution_count": null,
   "id": "43aff45c",
   "metadata": {},
   "outputs": [],
   "source": []
  },
  {
   "cell_type": "code",
   "execution_count": null,
   "id": "00067999",
   "metadata": {},
   "outputs": [],
   "source": []
  }
 ],
 "metadata": {
  "kernelspec": {
   "display_name": "Python 3 (ipykernel)",
   "language": "python",
   "name": "python3"
  },
  "language_info": {
   "codemirror_mode": {
    "name": "ipython",
    "version": 3
   },
   "file_extension": ".py",
   "mimetype": "text/x-python",
   "name": "python",
   "nbconvert_exporter": "python",
   "pygments_lexer": "ipython3",
   "version": "3.9.12"
  }
 },
 "nbformat": 4,
 "nbformat_minor": 5
}
